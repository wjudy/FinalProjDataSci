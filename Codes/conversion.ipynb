{
 "cells": [
  {
   "cell_type": "code",
   "execution_count": 1,
   "id": "7267b619",
   "metadata": {},
   "outputs": [],
   "source": [
    "from pandas import read_csv\n",
    "from pandas import DataFrame\n",
    "import pandas as pd"
   ]
  },
  {
   "cell_type": "code",
   "execution_count": 2,
   "id": "01b9c102",
   "metadata": {},
   "outputs": [],
   "source": [
    "def csvSplitter(pooper):\n",
    "    numDays = pooper.shape[0]\n",
    "    df = pd.DataFrame(data=pooper)\n",
    "    print(numDays)\n",
    "    totals = []\n",
    "    positives = []\n",
    "    negatives = []\n",
    "    for i in range(numDays):\n",
    "        stringArr = df.iloc[i, 1]\n",
    "        splitness = stringArr.split(\",\")\n",
    "        tot = splitness[0]\n",
    "        tot = tot[1:]\n",
    "        tot = float(tot)\n",
    "        pos = splitness[1]\n",
    "        pos = pos[1:]\n",
    "        pos = float(pos)\n",
    "        neg = splitness[2]\n",
    "        neg = neg[1:-1]\n",
    "        neg = float(neg)\n",
    "        totals.append(tot)\n",
    "        positives.append(pos)\n",
    "        negatives.append(neg)\n",
    "        \n",
    "    newDF = DataFrame(data=df.iloc[:,0])\n",
    "    newDF[\"Totals\"] = totals\n",
    "    newDF[\"Positives\"] = positives\n",
    "    newDF[\"Negatives\"] = negatives\n",
    "    return newDF\n",
    "        \n",
    "\n"
   ]
  },
  {
   "cell_type": "code",
   "execution_count": 3,
   "id": "f1c527ef",
   "metadata": {},
   "outputs": [],
   "source": [
    "ConservMarch2020 = read_csv(\"ConservativesMarch2020.csv\", index_col=0)\n",
    "\n",
    "DemocracyFeb2020 = read_csv(\"DemocracyFeb2020.csv\", index_col=0)\n",
    "DemocracyFeb2021 = read_csv(\"DemocracyFeb2021.csv\", index_col=0)\n",
    "DemocracyFeb2022 = read_csv(\"DemocracyFeb2022.csv\", index_col=0)\n",
    "\n",
    "DemocracyMarch2019 = read_csv(\"DemocracyMarch2019.csv\", index_col=0)\n",
    "DemocracyMarch2020 = read_csv(\"DemocracyMarch2020.csv\", index_col=0)\n",
    "DemocracyMarch2021 = read_csv(\"DemocracyMarch2021.csv\", index_col=0)\n",
    "DemocracyMarch2022 = read_csv(\"DemocracyMarch2022.csv\", index_col=0)\n",
    "\n",
    "FakeNewsFeb2020 = read_csv(\"FakeNewsFeb2020.csv\", index_col=0)\n",
    "FakeNewsFeb2021 = read_csv(\"FakeNewsFeb2021.csv\", index_col=0)\n",
    "\n",
    "FakeNewsMarch2018 = read_csv(\"FakeNewsMarch2018.csv\", index_col=0)\n",
    "FakeNewsMarch2020 = read_csv(\"FakeNewsMarch2020.csv\", index_col=0)\n",
    "FakeNewsMarch2021 = read_csv(\"FakeNewsMarch2021.csv\", index_col=0)\n",
    "\n",
    "LiberalsMarch2020 = read_csv(\"LiberalsMarch2020.csv\", index_col=0)"
   ]
  },
  {
   "cell_type": "code",
   "execution_count": 5,
   "id": "4ff8fe33",
   "metadata": {},
   "outputs": [],
   "source": [
    "CSVs = {0:ConservMarch2020 , 1:DemocracyFeb2020 , 2:DemocracyFeb2021 , 3:DemocracyFeb2022, 4:DemocracyMarch2019, 5:DemocracyMarch2020, 6:DemocracyMarch2021, 7: DemocracyMarch2022, 8:FakeNewsFeb2020, 9:FakeNewsFeb2021, 10:FakeNewsMarch2018, 11:FakeNewsMarch2020, 12:FakeNewsMarch2021, 12:LiberalsMarch2020}\n",
    "\n",
    "CSVstrings = {0:\"ConservMarch2020\" , 1:\"DemocracyFeb2020\" , 2:\"DemocracyFeb2021\" , 3:\"DemocracyFeb2022\", 4:\"DemocracyMarch2019\", 5:\"DemocracyMarch2020\", 6:\"DemocracyMarch2021\", 7:\"DemocracyMarch2022\", 8:\"FakeNewsFeb2020\", 9:\"FakeNewsFeb2021\", 10:\"FakeNewsMarch2018\", 11:\"FakeNewsMarch2020\", 12:\"FakeNewsMarch2021\", 12:\"LiberalsMarch2020\"}\n",
    "\n"
   ]
  },
  {
   "cell_type": "code",
   "execution_count": 7,
   "id": "4c9cbbfb",
   "metadata": {},
   "outputs": [
    {
     "name": "stdout",
     "output_type": "stream",
     "text": [
      "31\n",
      "29\n",
      "27\n",
      "28\n",
      "31\n",
      "31\n",
      "31\n",
      "31\n",
      "29\n",
      "27\n",
      "31\n",
      "31\n",
      "31\n"
     ]
    }
   ],
   "source": [
    "for i in range(len(CSVs)):\n",
    "    name = CSVstrings[i] + \".csv\"\n",
    "    completed = csvSplitter(CSVs[i])\n",
    "    completed.to_csv(name)\n",
    "    "
   ]
  },
  {
   "cell_type": "code",
   "execution_count": 8,
   "id": "3a682377",
   "metadata": {},
   "outputs": [
    {
     "name": "stdout",
     "output_type": "stream",
     "text": [
      "31\n"
     ]
    }
   ],
   "source": [
    "fnm21 = csvSplitter(FakeNewsMarch2021)\n",
    "fnm21.to_csv(\"FakeNewsMarch2021.csv\")"
   ]
  },
  {
   "cell_type": "code",
   "execution_count": null,
   "id": "432a19e0",
   "metadata": {},
   "outputs": [],
   "source": []
  }
 ],
 "metadata": {
  "kernelspec": {
   "display_name": "Python 3 (ipykernel)",
   "language": "python",
   "name": "python3"
  },
  "language_info": {
   "codemirror_mode": {
    "name": "ipython",
    "version": 3
   },
   "file_extension": ".py",
   "mimetype": "text/x-python",
   "name": "python",
   "nbconvert_exporter": "python",
   "pygments_lexer": "ipython3",
   "version": "3.9.7"
  }
 },
 "nbformat": 4,
 "nbformat_minor": 5
}
